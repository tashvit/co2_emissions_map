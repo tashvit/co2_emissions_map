{
 "cells": [
  {
   "cell_type": "code",
   "execution_count": 1,
   "metadata": {},
   "outputs": [],
   "source": [
    "import pandas\n",
    "import json\n",
    "import openpyxl\n",
    "from openpyxl import load_workbook"
   ]
  },
  {
   "cell_type": "code",
   "execution_count": 2,
   "metadata": {},
   "outputs": [],
   "source": [
    "# Using data from mtco2_2019.xlsx\n",
    "workbook = load_workbook(\"mtco2_2019.xlsx\")\n",
    "co2_data_sheet = workbook.active\n",
    "\n",
    "rows = []\n",
    "for row in co2_data_sheet.iter_rows(min_row=2, max_row=3, min_col=2, max_col=222):\n",
    "    rows.append(row)\n",
    "    \n",
    "\n",
    "row_1 = list(rows[0])\n",
    "row_2 = list(rows[1])\n",
    "\n",
    "country_list = [item.value for item in row_1]\n",
    "territorial_co2 = [item.value for item in row_2]\n",
    "\n",
    "emissions = [[country, emission] for country, emission in zip(country_list, territorial_co2)]"
   ]
  },
  {
   "cell_type": "code",
   "execution_count": 3,
   "metadata": {},
   "outputs": [],
   "source": [
    "emissions_2019 = dict(emissions)\n",
    "\n",
    "emissions_2019['Russia'] = emissions_2019.pop('Russian Federation')\n",
    "emissions_2019['United States'] = emissions_2019.pop('United States of America')"
   ]
  },
  {
   "cell_type": "code",
   "execution_count": 4,
   "metadata": {},
   "outputs": [],
   "source": [
    "# Using data from world.json\n",
    "with open(\"world.json\", \"r\", encoding='utf-8-sig') as file_handle:\n",
    "    info = json.load(file_handle)\n",
    "\n",
    "countries_mapping = dict(info)"
   ]
  },
  {
   "cell_type": "code",
   "execution_count": 5,
   "metadata": {},
   "outputs": [],
   "source": [
    "# Adding co2 data to world.json\n",
    "def add_co2_values(i):\n",
    "    country_name = countries_mapping['features'][i]['properties']['NAME']\n",
    "    if country_name not in emissions_2019.keys() or emissions_2019[country_name] is None:\n",
    "        countries_mapping['features'][i]['properties']['EMISSIONS'] = float(0)\n",
    "    else:\n",
    "        countries_mapping['features'][i]['properties']['EMISSIONS'] = float(emissions_2019[country_name])"
   ]
  },
  {
   "cell_type": "code",
   "execution_count": 6,
   "metadata": {},
   "outputs": [
    {
     "data": {
      "text/plain": [
       "246"
      ]
     },
     "execution_count": 6,
     "metadata": {},
     "output_type": "execute_result"
    }
   ],
   "source": [
    "len(countries_mapping['features'])"
   ]
  },
  {
   "cell_type": "code",
   "execution_count": 7,
   "metadata": {},
   "outputs": [],
   "source": [
    "# Applying function add_co2_values(i) on rows 0-245\n",
    "for num in range(246):\n",
    "    add_co2_values(num)"
   ]
  },
  {
   "cell_type": "code",
   "execution_count": 8,
   "metadata": {},
   "outputs": [],
   "source": [
    "# Converting final dictionary into a JSON file\n",
    "with open(\"total_world_co2_2019.json\", \"w+\") as file_handle:\n",
    "    json.dump(countries_mapping, file_handle)"
   ]
  }
 ],
 "metadata": {
  "kernelspec": {
   "display_name": "Python 3",
   "language": "python",
   "name": "python3"
  },
  "language_info": {
   "codemirror_mode": {
    "name": "ipython",
    "version": 3
   },
   "file_extension": ".py",
   "mimetype": "text/x-python",
   "name": "python",
   "nbconvert_exporter": "python",
   "pygments_lexer": "ipython3",
   "version": "3.7.6"
  }
 },
 "nbformat": 4,
 "nbformat_minor": 5
}
